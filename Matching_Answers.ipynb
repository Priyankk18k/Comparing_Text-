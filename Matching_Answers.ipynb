{
  "nbformat": 4,
  "nbformat_minor": 0,
  "metadata": {
    "colab": {
      "name": "Matching Answers.ipynb",
      "provenance": []
    },
    "kernelspec": {
      "name": "python3",
      "display_name": "Python 3"
    }
  },
  "cells": [
    {
      "cell_type": "code",
      "metadata": {
        "id": "MIFcnkDRV1A-",
        "colab_type": "code",
        "colab": {
          "base_uri": "https://localhost:8080/",
          "height": 85
        },
        "outputId": "f053f20a-9ff9-4a71-a219-b8d3ce073585"
      },
      "source": [
        "!pip3 install fuzzywuzzy"
      ],
      "execution_count": 3,
      "outputs": [
        {
          "output_type": "stream",
          "text": [
            "Collecting fuzzywuzzy\n",
            "  Downloading https://files.pythonhosted.org/packages/d8/f1/5a267addb30ab7eaa1beab2b9323073815da4551076554ecc890a3595ec9/fuzzywuzzy-0.17.0-py2.py3-none-any.whl\n",
            "Installing collected packages: fuzzywuzzy\n",
            "Successfully installed fuzzywuzzy-0.17.0\n"
          ],
          "name": "stdout"
        }
      ]
    },
    {
      "cell_type": "code",
      "metadata": {
        "id": "8-K9BQmEvOU2",
        "colab_type": "code",
        "colab": {
          "base_uri": "https://localhost:8080/",
          "height": 122
        },
        "outputId": "777392e9-6526-4b12-bb76-313b07cd340d"
      },
      "source": [
        "!pip install SpeechRecognition \n"
      ],
      "execution_count": 24,
      "outputs": [
        {
          "output_type": "stream",
          "text": [
            "Collecting SpeechRecognition\n",
            "\u001b[?25l  Downloading https://files.pythonhosted.org/packages/26/e1/7f5678cd94ec1234269d23756dbdaa4c8cfaed973412f88ae8adf7893a50/SpeechRecognition-3.8.1-py2.py3-none-any.whl (32.8MB)\n",
            "\u001b[K     |████████████████████████████████| 32.8MB 1.5MB/s \n",
            "\u001b[?25hInstalling collected packages: SpeechRecognition\n",
            "Successfully installed SpeechRecognition-3.8.1\n"
          ],
          "name": "stdout"
        }
      ]
    },
    {
      "cell_type": "code",
      "metadata": {
        "id": "2_mfl3CWwfm2",
        "colab_type": "code",
        "colab": {
          "base_uri": "https://localhost:8080/",
          "height": 85
        },
        "outputId": "e37568cd-89cd-4972-fcb6-e4d106d73baa"
      },
      "source": [
        "!pip3 install playsound\n"
      ],
      "execution_count": 26,
      "outputs": [
        {
          "output_type": "stream",
          "text": [
            "Collecting playsound\n",
            "  Downloading https://files.pythonhosted.org/packages/f5/16/10d897b0a83fb4b05b03a63d7a2667ab75f857f67f7062fd447dd3f49bf7/playsound-1.2.2-py2.py3-none-any.whl\n",
            "Installing collected packages: playsound\n",
            "Successfully installed playsound-1.2.2\n"
          ],
          "name": "stdout"
        }
      ]
    },
    {
      "cell_type": "code",
      "metadata": {
        "id": "PrA7VGNcyz7_",
        "colab_type": "code",
        "colab": {
          "base_uri": "https://localhost:8080/",
          "height": 207
        },
        "outputId": "d1dd6bcb-6aa1-4d4b-ee35-90464199861d"
      },
      "source": [
        "!pip3 install PyAudio\n"
      ],
      "execution_count": 39,
      "outputs": [
        {
          "output_type": "stream",
          "text": [
            "Collecting PyAudio\n",
            "  Using cached https://files.pythonhosted.org/packages/ab/42/b4f04721c5c5bfc196ce156b3c768998ef8c0ae3654ed29ea5020c749a6b/PyAudio-0.2.11.tar.gz\n",
            "Building wheels for collected packages: PyAudio\n",
            "  Building wheel for PyAudio (setup.py) ... \u001b[?25lerror\n",
            "\u001b[31m  ERROR: Failed building wheel for PyAudio\u001b[0m\n",
            "\u001b[?25h  Running setup.py clean for PyAudio\n",
            "Failed to build PyAudio\n",
            "Installing collected packages: PyAudio\n",
            "  Running setup.py install for PyAudio ... \u001b[?25l\u001b[?25herror\n",
            "\u001b[31mERROR: Command errored out with exit status 1: /usr/bin/python3 -u -c 'import sys, setuptools, tokenize; sys.argv[0] = '\"'\"'/tmp/pip-install-hbhkk1y5/PyAudio/setup.py'\"'\"'; __file__='\"'\"'/tmp/pip-install-hbhkk1y5/PyAudio/setup.py'\"'\"';f=getattr(tokenize, '\"'\"'open'\"'\"', open)(__file__);code=f.read().replace('\"'\"'\\r\\n'\"'\"', '\"'\"'\\n'\"'\"');f.close();exec(compile(code, __file__, '\"'\"'exec'\"'\"'))' install --record /tmp/pip-record-omu6j03n/install-record.txt --single-version-externally-managed --compile Check the logs for full command output.\u001b[0m\n"
          ],
          "name": "stdout"
        }
      ]
    },
    {
      "cell_type": "code",
      "metadata": {
        "id": "IkNdEjtbjJem",
        "colab_type": "code",
        "colab": {}
      },
      "source": [
        "from fuzzywuzzy import process\n",
        "from fuzzywuzzy import fuzz\n",
        "import speech_recognition as sr\n",
        "from playsound import playsound"
      ],
      "execution_count": 0,
      "outputs": []
    },
    {
      "cell_type": "code",
      "metadata": {
        "id": "SvILmfZhjqky",
        "colab_type": "code",
        "colab": {}
      },
      "source": [
        "def getMatchtingPercentage(string2Match='None',answer_dict='None',questionNumber='None'):\n",
        "  for key,value in answer_dict.items():\n",
        "    if key == questionNumber:\n",
        "        allDataPointsWithAccuracy = process.extract(string2Match,value)\n",
        "        oneBestAnswerMatching = process.extractOne(string2Match,value)\n",
        "        print(\"All Data Points With Accuracy\", allDataPointsWithAccuracy)\n",
        "        print(\"Extracting Best Accuracy out of it\", oneBestAnswerMatching)\n",
        "        return oneBestAnswerMatching\n",
        "    else:\n",
        "      print(\"Question Number or Id doesn't Match Please Check\")\n",
        "      \n",
        "      \n",
        "      \n",
        "def speech2text():\n",
        "      mic_name = \"USB Device 0x46d:0x825: Audio (hw:1, 0)\"\n",
        "      sample_rate = 48000\n",
        "      chunk_size = 2048\n",
        "      r = sr.Recognizer() \n",
        "      mic_list = sr.Microphone.list_microphone_names() \n",
        "      for i, microphone_name in enumerate(mic_list): \n",
        "          if microphone_name == mic_name: \n",
        "              device_id = i  \n",
        "      with sr.Microphone(device_index = device_id, sample_rate = sample_rate,  \n",
        "                              chunk_size = chunk_size) as source: \n",
        "          #wait for a second to let the recognizer adjust the  \n",
        "          #energy threshold based on the surrounding noise level \n",
        "          r.adjust_for_ambient_noise(source) \n",
        "          print(\"Say Something\")\n",
        "          #listens for the user's input \n",
        "          audio = r.listen(source) \n",
        "\n",
        "          try: \n",
        "              text = r.recognize_google(audio) \n",
        "              print(\"you said: \" + text) \n",
        "\n",
        "          #error occurs when google could not understand what was said \n",
        "\n",
        "          except sr.UnknownValueError: \n",
        "              print(\"Google Speech Recognition could not understand audio\") \n",
        "\n",
        "          except sr.RequestError as e: \n",
        "              print(\"Could not request results from Google Speech Recognition service; {0}\".format(e))\n",
        "\n",
        "              \n",
        "          return [text]              \n",
        "    "
      ],
      "execution_count": 0,
      "outputs": []
    },
    {
      "cell_type": "code",
      "metadata": {
        "id": "93_yhJVNV7AZ",
        "colab_type": "code",
        "colab": {
          "base_uri": "https://localhost:8080/",
          "height": 105
        },
        "outputId": "a1a0cbaa-3066-4f6d-9c5f-3e0198cc2ff0"
      },
      "source": [
        "answers_dict = {\"Q1\":['OnePlus Phones are best in the market as compared to any other brand.','OnePlus 6T is Best Phone','I will buy OnePlus']}\n",
        "string2Match = \"Best Phone is onePlus\"\n",
        "questionNumber = \"Q1\"\n",
        "bestAnswer = getMatchtingPercentage(string2Match,answers_dict,questionNumber)\n",
        "print(\"Your answer is matching with : {} \\nand the percentage of matching is: {}% Good Work!!!\".format(bestAnswer[0],bestAnswer[1]))"
      ],
      "execution_count": 31,
      "outputs": [
        {
          "output_type": "stream",
          "text": [
            "All Data Points With Accuracy [('OnePlus 6T is Best Phone', 95), ('OnePlus Phones are best in the market as compared to any other brand.', 86), ('I will buy OnePlus', 59)]\n",
            "Extracting Best Accuracy out of it ('OnePlus 6T is Best Phone', 95)\n",
            "Your answer is matching with : OnePlus 6T is Best Phone \n",
            "and the percentage of matching is: 95% Good Work!!!\n"
          ],
          "name": "stdout"
        }
      ]
    },
    {
      "cell_type": "code",
      "metadata": {
        "id": "yrahp6uXmFNM",
        "colab_type": "code",
        "colab": {}
      },
      "source": [
        "# new_text = speech2text()"
      ],
      "execution_count": 0,
      "outputs": []
    },
    {
      "cell_type": "code",
      "metadata": {
        "id": "Op7QZSyNyvrJ",
        "colab_type": "code",
        "colab": {}
      },
      "source": [
        ""
      ],
      "execution_count": 0,
      "outputs": []
    }
  ]
}